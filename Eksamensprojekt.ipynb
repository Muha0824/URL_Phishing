{
  "nbformat": 4,
  "nbformat_minor": 0,
  "metadata": {
    "colab": {
      "provenance": [],
      "authorship_tag": "ABX9TyN9s19mpjPFj/hJ2jjke1RX",
      "include_colab_link": true
    },
    "kernelspec": {
      "name": "python3",
      "display_name": "Python 3"
    },
    "language_info": {
      "name": "python"
    }
  },
  "cells": [
    {
      "cell_type": "markdown",
      "metadata": {
        "id": "view-in-github",
        "colab_type": "text"
      },
      "source": [
        "<a href=\"https://colab.research.google.com/github/Muha0824/URL_Phishing/blob/main/Eksamensprojekt.ipynb\" target=\"_parent\"><img src=\"https://colab.research.google.com/assets/colab-badge.svg\" alt=\"Open In Colab\"/></a>"
      ]
    },
    {
      "cell_type": "code",
      "source": [
        "# Import necessary libraries\n",
        "import pandas as pd\n",
        "import numpy as np\n",
        "import matplotlib.pyplot as plt\n",
        "from sklearn.model_selection import train_test_split\n",
        "from sklearn.feature_extraction.text import CountVectorizer\n",
        "from sklearn.linear_model import LogisticRegression\n",
        "from sklearn.metrics import confusion_matrix, accuracy_score\n",
        "\n",
        "# Load the datasets\n",
        "url_phishing = 'https://raw.githubusercontent.com/Muha0824/URL_Phishing/main/phishing-urls.csv'\n",
        "url_legitimate = 'https://raw.githubusercontent.com/Muha0824/URL_Phishing/main/legitimate-urls.csv'\n",
        "df_phishing = pd.read_csv(url_phishing, error_bad_lines=False)\n",
        "df_legitimate = pd.read_csv(url_legitimate, error_bad_lines=False)\n",
        "\n",
        "# Add a label column to each dataset\n",
        "df_phishing['label'] = 1\n",
        "df_legitimate['label'] = 0\n",
        "\n",
        "# Combine the datasets\n",
        "df = pd.concat([df_phishing, df_legitimate], ignore_index=True)\n",
        "df = df.sample(frac=1).reset_index(drop=True) # Shuffle the data\n",
        "\n",
        "# Check for class imbalance\n",
        "class_counts = df['label'].value_counts()\n",
        "if len(class_counts) < 2:\n",
        "    raise ValueError('Dataset has only one class.')\n",
        "\n",
        "# Define the feature and target variables\n",
        "X = df['Domain']\n",
        "y = df['label']\n",
        "\n",
        "# Split the data into training and testing sets\n",
        "X_train, X_test, y_train, y_test = train_test_split(X, y, test_size=0.2, random_state=42)\n",
        "\n",
        "# Convert URLs into vectors using Bag of Words approach\n",
        "vectorizer = CountVectorizer()\n",
        "X_train_vectors = vectorizer.fit_transform(X_train)\n",
        "X_test_vectors = vectorizer.transform(X_test)\n",
        "\n",
        "# Train the model\n",
        "model = LogisticRegression()\n",
        "model.fit(X_train_vectors, y_train)\n",
        "\n",
        "# Evaluate the model\n",
        "y_pred = model.predict(X_test_vectors)\n",
        "accuracy = accuracy_score(y_test, y_pred)\n",
        "confusion_mat = confusion_matrix(y_test, y_pred)\n",
        "print('Accuracy:', accuracy)\n",
        "print('Confusion matrix:\\n', confusion_mat)\n"
      ],
      "metadata": {
        "colab": {
          "base_uri": "https://localhost:8080/"
        },
        "id": "-8T65-Trh62P",
        "outputId": "e84f9a8d-1301-4e38-dc43-bb8009eb200a"
      },
      "execution_count": 54,
      "outputs": [
        {
          "output_type": "stream",
          "name": "stdout",
          "text": [
            "Accuracy: 0.8808933002481389\n",
            "Confusion matrix:\n",
            " [[182  22]\n",
            " [ 26 173]]\n"
          ]
        },
        {
          "output_type": "stream",
          "name": "stderr",
          "text": [
            "<ipython-input-54-cb34b86fe98f>:13: FutureWarning: The error_bad_lines argument has been deprecated and will be removed in a future version. Use on_bad_lines in the future.\n",
            "\n",
            "\n",
            "  df_phishing = pd.read_csv(url_phishing, error_bad_lines=False)\n",
            "<ipython-input-54-cb34b86fe98f>:14: FutureWarning: The error_bad_lines argument has been deprecated and will be removed in a future version. Use on_bad_lines in the future.\n",
            "\n",
            "\n",
            "  df_legitimate = pd.read_csv(url_legitimate, error_bad_lines=False)\n"
          ]
        }
      ]
    },
    {
      "cell_type": "code",
      "source": [
        "# Obtain the new URL to be tested\n",
        "new_url = 'https://hipotecario00011111.000webhostapp.com'\n",
        "\n",
        "# Apply preprocessing steps to the new URL\n",
        "new_url_vector = vectorizer.transform([new_url])  # Convert the URL into a vector\n",
        "X_new = new_url_vector  # Features for prediction\n",
        "\n",
        "# Make a prediction on the new URL using the trained model\n",
        "y_new_pred = model.predict(X_new)\n",
        "\n",
        "# Print the prediction\n",
        "if y_new_pred[0] == 1:\n",
        "    print(\"The URL '{}' is classified as PHISHING.\".format(new_url))\n",
        "else:\n",
        "    print(\"The URL '{}' is classified as LEGITIMATE.\".format(new_url))\n"
      ],
      "metadata": {
        "colab": {
          "base_uri": "https://localhost:8080/"
        },
        "id": "uMrMnMDHlhWj",
        "outputId": "57ec62e1-35f2-4741-9edf-fc618bc88bab"
      },
      "execution_count": 58,
      "outputs": [
        {
          "output_type": "stream",
          "name": "stdout",
          "text": [
            "The URL 'https://hipotecario00011111.000webhostapp.com' is classified as PHISHING.\n"
          ]
        }
      ]
    }
  ]
}